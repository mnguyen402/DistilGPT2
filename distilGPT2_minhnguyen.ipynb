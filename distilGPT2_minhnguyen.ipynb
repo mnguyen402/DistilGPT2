{
 "cells": [
  {
   "cell_type": "code",
   "execution_count": 1,
   "id": "facf3ea7-4a0e-47da-8c6d-963458086bcd",
   "metadata": {},
   "outputs": [
    {
     "name": "stderr",
     "output_type": "stream",
     "text": [
      "/Library/Frameworks/Python.framework/Versions/3.13/lib/python3.13/site-packages/tqdm/auto.py:21: TqdmWarning: IProgress not found. Please update jupyter and ipywidgets. See https://ipywidgets.readthedocs.io/en/stable/user_install.html\n",
      "  from .autonotebook import tqdm as notebook_tqdm\n"
     ]
    },
    {
     "name": "stdout",
     "output_type": "stream",
     "text": [
      "* Running on local URL:  http://127.0.0.1:7862\n",
      "\n",
      "To create a public link, set `share=True` in `launch()`.\n"
     ]
    },
    {
     "data": {
      "text/html": [
       "<div><iframe src=\"http://127.0.0.1:7862/\" width=\"100%\" height=\"500\" allow=\"autoplay; camera; microphone; clipboard-read; clipboard-write;\" frameborder=\"0\" allowfullscreen></iframe></div>"
      ],
      "text/plain": [
       "<IPython.core.display.HTML object>"
      ]
     },
     "metadata": {},
     "output_type": "display_data"
    },
    {
     "data": {
      "text/plain": []
     },
     "execution_count": 1,
     "metadata": {},
     "output_type": "execute_result"
    },
    {
     "name": "stderr",
     "output_type": "stream",
     "text": [
      "The attention mask and the pad token id were not set. As a consequence, you may observe unexpected behavior. Please pass your input's `attention_mask` to obtain reliable results.\n",
      "Setting `pad_token_id` to `eos_token_id`:50256 for open-end generation.\n",
      "The attention mask is not set and cannot be inferred from input because pad token is same as eos token. As a consequence, you may observe unexpected behavior. Please pass your input's `attention_mask` to obtain reliable results.\n"
     ]
    }
   ],
   "source": [
    "import torch\n",
    "import psutil\n",
    "import time\n",
    "import gradio as gr\n",
    "from transformers import AutoTokenizer, AutoModelForCausalLM\n",
    "\n",
    "# Model setup\n",
    "device = torch.device(\"mps\")  # or \"cpu\" or \"cuda\"\n",
    "name = \"distilgpt2\"\n",
    "tokenizer = AutoTokenizer.from_pretrained(name)\n",
    "model = AutoModelForCausalLM.from_pretrained(name).to(device)\n",
    "proc = psutil.Process()\n",
    "\n",
    "# Gradio function\n",
    "def generate_text(prompt, max_len=60, temp=1.0):\n",
    "    t0, m0 = time.time(), proc.memory_info().rss / 1e6\n",
    "    ids = tokenizer(prompt, return_tensors=\"pt\").input_ids.to(device)\n",
    "    output = model.generate(ids, max_length=max_len, do_sample=True, temperature=temp)\n",
    "    text = tokenizer.decode(output[0], skip_special_tokens=True)\n",
    "    t1, m1 = time.time(), proc.memory_info().rss / 1e6\n",
    "    stats = f\"⏱ {t1-t0:.2f}s |{m1-m0:.1f} MB (peak ~{m1:.1f} MB)\"\n",
    "    return text, stats\n",
    "\n",
    "# Gradio app\n",
    "demo = gr.Interface(\n",
    "    fn=generate_text,\n",
    "    inputs=[\n",
    "        gr.Textbox(lines=3, label=\"Prompt\"),\n",
    "        gr.Slider(20, 200, value=60, step=10, label=\"Max length\"),\n",
    "    ],\n",
    "    outputs=[\n",
    "        gr.Textbox(label=\"Generated text\"),\n",
    "        gr.Markdown(),\n",
    "    ],\n",
    "    title=\"DistilGPT-2 Playground\",\n",
    ")\n",
    "\n",
    "demo.launch(inline=True, share=False)"
   ]
  },
  {
   "cell_type": "code",
   "execution_count": null,
   "id": "15d7085d-9d64-473e-adb2-204dcd095a15",
   "metadata": {},
   "outputs": [],
   "source": []
  }
 ],
 "metadata": {
  "kernelspec": {
   "display_name": "Python 3 (ipykernel)",
   "language": "python",
   "name": "python3"
  },
  "language_info": {
   "codemirror_mode": {
    "name": "ipython",
    "version": 3
   },
   "file_extension": ".py",
   "mimetype": "text/x-python",
   "name": "python",
   "nbconvert_exporter": "python",
   "pygments_lexer": "ipython3",
   "version": "3.13.1"
  }
 },
 "nbformat": 4,
 "nbformat_minor": 5
}
